{
 "cells": [
  {
   "cell_type": "code",
   "execution_count": 1,
   "metadata": {},
   "outputs": [],
   "source": [
    "lines = []\n",
    "with open('output2.txt', 'r') as f:\n",
    "    lines = f.readlines()"
   ]
  },
  {
   "cell_type": "code",
   "execution_count": 4,
   "metadata": {},
   "outputs": [
    {
     "name": "stdout",
     "output_type": "stream",
     "text": [
      "132\n"
     ]
    }
   ],
   "source": [
    "infos = []\n",
    "st = 0\n",
    "for i, line in enumerate(lines):\n",
    "    if line.find('Embed') != -1:\n",
    "        infos.append(lines[st:i])\n",
    "        st = i\n",
    "infos.append(lines[st:])\n",
    "infos = infos[1:]"
   ]
  },
  {
   "cell_type": "code",
   "execution_count": 14,
   "metadata": {},
   "outputs": [
    {
     "name": "stdout",
     "output_type": "stream",
     "text": [
      "132\n"
     ]
    }
   ],
   "source": [
    "datas = []\n",
    "for info in infos:\n",
    "    data = {}\n",
    "    ti = 0\n",
    "    for line in info:\n",
    "        if line.find('Embed') != -1:\n",
    "            words = line.replace(',','').split(' ')\n",
    "            ti = 0\n",
    "            for i, word in enumerate(words):\n",
    "                if word == 'ratio:':\n",
    "                    data['new_ratio'] = words[i+1]\n",
    "                elif word == 'epoch:':\n",
    "                    data['total_epoch'] = words[i+1]\n",
    "                elif word == 'lr:':\n",
    "                    data['lr:'] = words[i+1]\n",
    "                elif word == 'ewc_lambda:':\n",
    "                    data['ewc_lambda'] = words[i+1]\n",
    "                elif word == 'new_type':\n",
    "                    data['new_type'] = words[i+1]\n",
    "        elif line.find(' t:') != -1:\n",
    "            ti += 1\n",
    "            data['t'+str(ti)] = {}\n",
    "        elif line.find('MRR') != -1:\n",
    "            data['t'+str(ti)]['MRR'] = line.split(' ')[-1].strip()\n",
    "        elif line.find('Mean Rank') != -1:\n",
    "            data['t'+str(ti)]['Mean Rank'] = line.split(' ')[-1].strip()\n",
    "        elif line.find('Hits@1:') != -1:\n",
    "            data['t'+str(ti)]['Hits@1'] = line.split(' ')[-1].strip()\n",
    "        elif line.find('Hits@10:') != -1:\n",
    "            data['t'+str(ti)]['Hits@10'] = line.split(' ')[-1].strip()\n",
    "        \n",
    "    datas.append(data)\n",
    "print(len(datas))"
   ]
  },
  {
   "cell_type": "code",
   "execution_count": 16,
   "metadata": {},
   "outputs": [],
   "source": [
    "ldata = {}\n",
    "# new_ratio, ewc_lambda\n",
    "for data in datas:\n",
    "    ldata[data['new_ratio']] = {}\n",
    "for data in datas:\n",
    "    ldata[data['new_ratio']][data['ewc_lambda']] = data"
   ]
  },
  {
   "cell_type": "code",
   "execution_count": 24,
   "metadata": {},
   "outputs": [],
   "source": [
    "with open('c.csv', 'w') as f:\n",
    "    f.write('new_ratio,ewc_lambda,t1,t2,t3,t4,t5,t6,t7,t8,t9\\n')\n",
    "    for l in ldata.values():\n",
    "        for data in l.values():\n",
    "            f.write(data['new_ratio']+','+data['ewc_lambda']+','+data['t1']['Hits@10']+','+data['t2']['Hits@10']+','+data['t3']['Hits@10']+','+data['t4']['Hits@10']+','+data['t5']['Hits@10']+','+data['t6']['Hits@10']+','+data['t7']['Hits@10']+','+data['t8']['Hits@10']+','+data['t9']['Hits@10']+'\\n')\n",
    "    f.close()"
   ]
  },
  {
   "cell_type": "code",
   "execution_count": null,
   "metadata": {},
   "outputs": [],
   "source": []
  }
 ],
 "metadata": {
  "kernelspec": {
   "display_name": "Python 3.8.5 ('cgnn')",
   "language": "python",
   "name": "python3"
  },
  "language_info": {
   "codemirror_mode": {
    "name": "ipython",
    "version": 3
   },
   "file_extension": ".py",
   "mimetype": "text/x-python",
   "name": "python",
   "nbconvert_exporter": "python",
   "pygments_lexer": "ipython3",
   "version": "3.8.5"
  },
  "orig_nbformat": 4,
  "vscode": {
   "interpreter": {
    "hash": "30321e586485ff286409f7cb79c071d9ae3f6d75bc7fc88e030372b2ae4093dd"
   }
  }
 },
 "nbformat": 4,
 "nbformat_minor": 2
}
